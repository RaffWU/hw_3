{
 "cells": [
  {
   "cell_type": "code",
   "execution_count": 41,
   "metadata": {},
   "outputs": [],
   "source": [
    "from sklearn.neighbors import KNeighborsClassifier\n",
    "import pandas as pd\n",
    "import numpy as np\n",
    "import matplotlib.pyplot as plt\n",
    "from sklearn import datasets\n",
    "from sklearn.model_selection import train_test_split\n",
    "from sklearn import metrics\n",
    "import re\n",
    "import jieba\n",
    "import jieba.analyse\n",
    "\n",
    "from sklearn.feature_extraction.text import CountVectorizer\n",
    "from sklearn.feature_extraction.text import TfidfTransformer"
   ]
  },
  {
   "cell_type": "code",
   "execution_count": 42,
   "metadata": {},
   "outputs": [],
   "source": [
    "def cutval(df):\n",
    "    infocut= []\n",
    "    for d in df[\"\\n            《脫稿玩家》 故事描述一個銀行小職員 - 蓋伊 (萊恩雷諾斯) 日復一日年復一年做著無聊的工作，過著樸實無華的生活，直到有一天他突然發現自己是一個暴力電玩中可有可無的配角，他想要突破現狀，但這個動作竟讓整個遊戲大變調，除了要挑戰層層關卡，還要拯救世界，更重要的是否能從C咖一躍成A咖呢？\"]:\n",
    "        info= jieba.analyse.extract_tags(d, topK=2)\n",
    "        infocut.append(info)\n",
    "\n",
    "    typecut= []\n",
    "    for d in df[\"[' 動作 ', ' 喜劇 ']\"]:\n",
    "        ch= re.compile(\"[\\u4e00-\\u9fa5]\")\n",
    "        seg_word=  \"\".join(ch.findall(d))\n",
    "        info= jieba.lcut(seg_word)\n",
    "        typecut.append(info)\n",
    "\n",
    "    namecut= []\n",
    "    for d in df['脫稿玩家']:\n",
    "        ch= re.compile(\"[\\u4e00-\\u9fa5]\")\n",
    "        name=  \"\".join(ch.findall(d))\n",
    "        namecut.append(name)\n",
    "\n",
    "    data= { 'type':typecut, 'name':namecut, 'info':infocut}\n",
    "    df1= pd.DataFrame(data)\n",
    "\n",
    "    df1['type']= df1['type'].apply(lambda x :  str(x)[1:-2].replace(\"'\", \"\").replace(\",\", \"\"))\n",
    "    df1['info']= df1['info'].apply(lambda x :  str(x)[1:-2].replace(\"'\", \"\").replace(\",\", \"\"))\n",
    "    df1['key']= df1['name'].astype(str)+' '+df1['type'].astype(str)+' '+df1['info'].astype(str)\n",
    "    return df1"
   ]
  },
  {
   "cell_type": "code",
   "execution_count": null,
   "metadata": {},
   "outputs": [],
   "source": []
  }
 ],
 "metadata": {
  "kernelspec": {
   "display_name": "Python 3",
   "language": "python",
   "name": "python3"
  },
  "language_info": {
   "codemirror_mode": {
    "name": "ipython",
    "version": 3
   },
   "file_extension": ".py",
   "mimetype": "text/x-python",
   "name": "python",
   "nbconvert_exporter": "python",
   "pygments_lexer": "ipython3",
   "version": "3.7.6"
  }
 },
 "nbformat": 4,
 "nbformat_minor": 4
}
